{
 "cells": [
  {
   "cell_type": "code",
   "execution_count": 5,
   "metadata": {},
   "outputs": [
    {
     "data": {
      "text/html": [
       "<pre style=\"word-wrap: normal;white-space: pre;background: #fff0;line-height: 1.1;font-family: &quot;Courier New&quot;,Courier,monospace\">      ░ ┌───┐      ░            ░ ┌───┐ ░ ┌─┐      \n",
       "q_0: ─░─┤ H ├──────░───■────────░─┤ H ├─░─┤M├──────\n",
       "      ░ ├───┤      ░   │        ░ ├───┤ ░ └╥┘┌─┐   \n",
       "q_1: ─░─┤ H ├──────░───┼────────░─┤ H ├─░──╫─┤M├───\n",
       "      ░ ├───┤      ░   │        ░ ├───┤ ░  ║ └╥┘┌─┐\n",
       "q_2: ─░─┤ H ├──────░───┼────■───░─┤ H ├─░──╫──╫─┤M├\n",
       "      ░ ├───┤┌───┐ ░ ┌─┴─┐┌─┴─┐ ░ └───┘ ░  ║  ║ └╥┘\n",
       "q_3: ─░─┤ H ├┤ Z ├─░─┤ X ├┤ X ├─░───────░──╫──╫──╫─\n",
       "      ░ └───┘└───┘ ░ └───┘└───┘ ░       ░  ║  ║  ║ \n",
       "c: 3/══════════════════════════════════════╩══╩══╩═\n",
       "                                           0  1  2 </pre>"
      ],
      "text/plain": [
       "      ░ ┌───┐      ░            ░ ┌───┐ ░ ┌─┐      \n",
       "q_0: ─░─┤ H ├──────░───■────────░─┤ H ├─░─┤M├──────\n",
       "      ░ ├───┤      ░   │        ░ ├───┤ ░ └╥┘┌─┐   \n",
       "q_1: ─░─┤ H ├──────░───┼────────░─┤ H ├─░──╫─┤M├───\n",
       "      ░ ├───┤      ░   │        ░ ├───┤ ░  ║ └╥┘┌─┐\n",
       "q_2: ─░─┤ H ├──────░───┼────■───░─┤ H ├─░──╫──╫─┤M├\n",
       "      ░ ├───┤┌───┐ ░ ┌─┴─┐┌─┴─┐ ░ └───┘ ░  ║  ║ └╥┘\n",
       "q_3: ─░─┤ H ├┤ Z ├─░─┤ X ├┤ X ├─░───────░──╫──╫──╫─\n",
       "      ░ └───┘└───┘ ░ └───┘└───┘ ░       ░  ║  ║  ║ \n",
       "c: 3/══════════════════════════════════════╩══╩══╩═\n",
       "                                           0  1  2 "
      ]
     },
     "execution_count": 5,
     "metadata": {},
     "output_type": "execute_result"
    }
   ],
   "source": [
    "#Zaimplementuj algorytm Bersteina Viziraniego z własną f(x)=<s|x> mod 2\n",
    "\n",
    "from qiskit import QuantumCircuit \n",
    "from qiskit import QuantumRegister\n",
    "from qiskit import ClassicalRegister\n",
    "q = QuantumCircuit(4, 3)\n",
    "q.barrier()\n",
    "q.h(0)\n",
    "q.h(1)\n",
    "q.h(2)\n",
    "q.h(3)\n",
    "q.z(3)\n",
    "q.barrier()\n",
    "q.cx(0,3) #101\n",
    "q.cx(2,3)\n",
    "q.barrier()\n",
    "q.h(0) \n",
    "q.h(1)\n",
    "q.h(2)\n",
    "q.barrier()\n",
    "q.measure(0,0)\n",
    "q.measure(1,1)\n",
    "q.measure(2,2)\n",
    "q.draw()"
   ]
  },
  {
   "cell_type": "code",
   "execution_count": 6,
   "metadata": {
    "scrolled": true
   },
   "outputs": [
    {
     "data": {
      "image/png": "[encoded data removed]",
      "text/plain": [
       "<Figure size 504x360 with 1 Axes>"
      ]
     },
     "execution_count": 6,
     "metadata": {},
     "output_type": "execute_result"
    }
   ],
   "source": [
    "from qiskit.visualization import plot_histogram\n",
    "from qiskit import Aer\n",
    "from qiskit import assemble\n",
    "\n",
    "ass = assemble(q, shots=1024)\n",
    "sim = Aer.get_backend('qasm_simulator')\n",
    "res = sim.run(ass)\n",
    "cnt = res.result().get_counts()\n",
    "plot_histogram(cnt)"
   ]
  },
  {
   "cell_type": "code",
   "execution_count": null,
   "metadata": {},
   "outputs": [],
   "source": []
  }
 ],
 "metadata": {
  "kernelspec": {
   "display_name": "Python 3",
   "language": "python",
   "name": "python3"
  },
  "language_info": {
   "codemirror_mode": {
    "name": "ipython",
    "version": 3
   },
   "file_extension": ".py",
   "mimetype": "text/x-python",
   "name": "python",
   "nbconvert_exporter": "python",
   "pygments_lexer": "ipython3",
   "version": "3.8.5"
  }
 },
 "nbformat": 4,
 "nbformat_minor": 4
}
