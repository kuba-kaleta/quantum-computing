{
 "cells": [
  {
   "cell_type": "code",
   "execution_count": 1,
   "metadata": {},
   "outputs": [
    {
     "data": {
      "text/html": [
       "<pre style=\"word-wrap: normal;white-space: pre;background: #fff0;line-height: 1.1;font-family: &quot;Courier New&quot;,Courier,monospace\">     ┌─────────────────┐┌───┐ ░            ░ ┌─┐         \n",
       "q_0: ┤ initialize(0,1) ├┤ H ├─░────────────░─┤M├─────────\n",
       "     ├─────────────────┤├───┤ ░            ░ └╥┘┌─┐      \n",
       "q_1: ┤ initialize(1,0) ├┤ H ├─░───■────────░──╫─┤M├──────\n",
       "     ├─────────────────┤├───┤ ░   │        ░  ║ └╥┘┌─┐   \n",
       "q_2: ┤ initialize(0,1) ├┤ H ├─░───┼────■───░──╫──╫─┤M├───\n",
       "     └──────┬───┬──────┘└───┘ ░ ┌─┴─┐┌─┴─┐ ░  ║  ║ └╥┘┌─┐\n",
       "q_3: ───────┤ H ├─────────────░─┤ X ├┤ X ├─░──╫──╫──╫─┤M├\n",
       "            └───┘             ░ └───┘└───┘ ░  ║  ║  ║ └╥┘\n",
       "c: 4/═════════════════════════════════════════╩══╩══╩══╩═\n",
       "                                              0  1  2  3 </pre>"
      ],
      "text/plain": [
       "     ┌─────────────────┐┌───┐ ░            ░ ┌─┐         \n",
       "q_0: ┤ initialize(0,1) ├┤ H ├─░────────────░─┤M├─────────\n",
       "     ├─────────────────┤├───┤ ░            ░ └╥┘┌─┐      \n",
       "q_1: ┤ initialize(1,0) ├┤ H ├─░───■────────░──╫─┤M├──────\n",
       "     ├─────────────────┤├───┤ ░   │        ░  ║ └╥┘┌─┐   \n",
       "q_2: ┤ initialize(0,1) ├┤ H ├─░───┼────■───░──╫──╫─┤M├───\n",
       "     └──────┬───┬──────┘└───┘ ░ ┌─┴─┐┌─┴─┐ ░  ║  ║ └╥┘┌─┐\n",
       "q_3: ───────┤ H ├─────────────░─┤ X ├┤ X ├─░──╫──╫──╫─┤M├\n",
       "            └───┘             ░ └───┘└───┘ ░  ║  ║  ║ └╥┘\n",
       "c: 4/═════════════════════════════════════════╩══╩══╩══╩═\n",
       "                                              0  1  2  3 "
      ]
     },
     "execution_count": 1,
     "metadata": {},
     "output_type": "execute_result"
    }
   ],
   "source": [
    "from qiskit import QuantumCircuit \n",
    "from qiskit import QuantumRegister\n",
    "from qiskit import ClassicalRegister\n",
    "q = QuantumCircuit(4, 4)\n",
    "i = [0,1] #1\n",
    "o = [1,0] #0\n",
    "q.initialize(i, 0)\n",
    "q.initialize(o, 1)\n",
    "q.initialize(i, 2)\n",
    "q.h(0)\n",
    "q.h(1)\n",
    "q.h(2)\n",
    "q.h(3)\n",
    "q.barrier()\n",
    "\n",
    "q.cx(1,3)\n",
    "q.cx(2,3)\n",
    "\n",
    "q.barrier()\n",
    "q.measure(0,0)\n",
    "q.measure(1,1)\n",
    "q.measure(2,2)\n",
    "q.measure(3,3)\n",
    "q.draw()\n"
   ]
  },
  {
   "cell_type": "code",
   "execution_count": null,
   "metadata": {},
   "outputs": [],
   "source": [
    "from qiskit.visualization import plot_histogram\n",
    "from qiskit import Aer\n",
    "from qiskit import assemble\n",
    "\n",
    "ass = assemble(q, shots=10000)\n",
    "sim = Aer.get_backend('qasm_simulator')\n",
    "res = sim.run(ass)\n",
    "cnt = res.result().get_counts()\n",
    "plot_histogram(cnt)"
   ]
  }
 ],
 "metadata": {
  "kernelspec": {
   "display_name": "Python 3",
   "language": "python",
   "name": "python3"
  },
  "language_info": {
   "codemirror_mode": {
    "name": "ipython",
    "version": 3
   },
   "file_extension": ".py",
   "mimetype": "text/x-python",
   "name": "python",
   "nbconvert_exporter": "python",
   "pygments_lexer": "ipython3",
   "version": "3.8.5"
  }
 },
 "nbformat": 4,
 "nbformat_minor": 4
}
