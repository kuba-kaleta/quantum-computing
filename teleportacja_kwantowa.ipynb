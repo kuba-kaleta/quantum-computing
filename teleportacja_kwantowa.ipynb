{
 "cells": [
  {
   "cell_type": "code",
   "execution_count": 9,
   "metadata": {},
   "outputs": [],
   "source": [
    "from qiskit import QuantumCircuit \n",
    "from qiskit import QuantumRegister\n",
    "from qiskit import ClassicalRegister\n",
    "from math import sqrt, pi"
   ]
  },
  {
   "cell_type": "code",
   "execution_count": 10,
   "metadata": {},
   "outputs": [
    {
     "data": {
      "text/html": [
       "<pre style=\"word-wrap: normal;white-space: pre;background: #fff0;line-height: 1.1;font-family: &quot;Courier New&quot;,Courier,monospace\">       ┌─────────────────────────────┐      ░      ┌───┐ ░ ┌─┐                 \n",
       "  q_0: ┤ initialize(0.70711,0.70711) ├──────░───■──┤ H ├─░─┤M├─────────────────\n",
       "       └────────────┬───┬────────────┘      ░ ┌─┴─┐└───┘ ░ └╥┘┌─┐              \n",
       "  q_1: ─────────────┤ H ├───────────────■───░─┤ X ├──────░──╫─┤M├──────────────\n",
       "                    └───┘             ┌─┴─┐ ░ └───┘      ░  ║ └╥┘ ┌───┐  ┌───┐ \n",
       "  q_2: ───────────────────────────────┤ X ├─░────────────░──╫──╫──┤ X ├──┤ Z ├─\n",
       "                                      └───┘ ░            ░  ║  ║  └─┬─┘  └─┬─┘ \n",
       "                                                            ║  ║ ┌──┴──┐   │   \n",
       "crz: 1/═════════════════════════════════════════════════════╩══╬═╡ = 1 ╞═══╪═══\n",
       "                                                            0  ║ └─────┘┌──┴──┐\n",
       "crx: 1/════════════════════════════════════════════════════════╩════════╡ = 1 ╞\n",
       "                                                               0        └─────┘</pre>"
      ],
      "text/plain": [
       "       ┌─────────────────────────────┐      ░      ┌───┐ ░ ┌─┐                 \n",
       "  q_0: ┤ initialize(0.70711,0.70711) ├──────░───■──┤ H ├─░─┤M├─────────────────\n",
       "       └────────────┬───┬────────────┘      ░ ┌─┴─┐└───┘ ░ └╥┘┌─┐              \n",
       "  q_1: ─────────────┤ H ├───────────────■───░─┤ X ├──────░──╫─┤M├──────────────\n",
       "                    └───┘             ┌─┴─┐ ░ └───┘      ░  ║ └╥┘ ┌───┐  ┌───┐ \n",
       "  q_2: ───────────────────────────────┤ X ├─░────────────░──╫──╫──┤ X ├──┤ Z ├─\n",
       "                                      └───┘ ░            ░  ║  ║  └─┬─┘  └─┬─┘ \n",
       "                                                            ║  ║ ┌──┴──┐   │   \n",
       "crz: 1/═════════════════════════════════════════════════════╩══╬═╡ = 1 ╞═══╪═══\n",
       "                                                            0  ║ └─────┘┌──┴──┐\n",
       "crx: 1/════════════════════════════════════════════════════════╩════════╡ = 1 ╞\n",
       "                                                               0        └─────┘"
      ]
     },
     "execution_count": 10,
     "metadata": {},
     "output_type": "execute_result"
    }
   ],
   "source": [
    "qr = QuantumRegister(3, name='q')\n",
    "crz = ClassicalRegister(1, name='crz')\n",
    "crx = ClassicalRegister(1, name='crx')\n",
    "circ = QuantumCircuit(qr, crz, crx)\n",
    "initial_state = [1/sqrt(2),1/sqrt(2)]\n",
    "circ.initialize(initial_state,0)\n",
    "circ.h(1)\n",
    "circ.cx(1,2)\n",
    "circ.barrier()\n",
    "circ.cx(0,1)\n",
    "circ.h(0)\n",
    "circ.barrier()\n",
    "circ.measure(0,0)\n",
    "circ.measure(1,1)\n",
    "circ.x(2).c_if(crz,1)\n",
    "circ.z(2).c_if(crx,1)\n",
    "circ.draw()"
   ]
  },
  {
   "cell_type": "code",
   "execution_count": 11,
   "metadata": {},
   "outputs": [],
   "source": [
    "from qiskit import Aer\n",
    "from qiskit import assemble\n",
    "from qiskit.visualization import plot_histogram"
   ]
  },
  {
   "cell_type": "code",
   "execution_count": 12,
   "metadata": {},
   "outputs": [
    {
     "data": {
      "image/png": "[encoded data removed]",
      "text/plain": [
       "<Figure size 504x360 with 1 Axes>"
      ]
     },
     "execution_count": 12,
     "metadata": {},
     "output_type": "execute_result"
    }
   ],
   "source": [
    "symulator = Aer.get_backend('qasm_simulator')\n",
    "assembled = assemble(circ, shots = 100000)\n",
    "run_result = symulator.run(assembled)\n",
    "hist = run_result.result().get_counts()\n",
    "plot_histogram(hist)"
   ]
  },
  {
   "cell_type": "code",
   "execution_count": 13,
   "metadata": {},
   "outputs": [],
   "source": [
    "from qiskit import Aer\n",
    "from qiskit import assemble"
   ]
  },
  {
   "cell_type": "code",
   "execution_count": 14,
   "metadata": {},
   "outputs": [],
   "source": [
    "ass = assemble(circ)\n",
    "symulator = Aer.get_backend('statevector_simulator')"
   ]
  },
  {
   "cell_type": "code",
   "execution_count": 15,
   "metadata": {},
   "outputs": [
    {
     "name": "stdout",
     "output_type": "stream",
     "text": [
      "[ 0.        +0.00000000e+00j -0.        +0.00000000e+00j\n",
      "  0.        +0.00000000e+00j  0.70710678+0.00000000e+00j\n",
      " -0.        +0.00000000e+00j -0.        +0.00000000e+00j\n",
      " -0.        +0.00000000e+00j  0.70710678-8.65956056e-17j]\n"
     ]
    }
   ],
   "source": [
    "wynik = symulator.run(ass)\n",
    "ket = wynik.result().get_statevector()\n",
    "print(ket)"
   ]
  },
  {
   "cell_type": "code",
   "execution_count": null,
   "metadata": {},
   "outputs": [],
   "source": []
  }
 ],
 "metadata": {
  "kernelspec": {
   "display_name": "Python 3",
   "language": "python",
   "name": "python3"
  },
  "language_info": {
   "codemirror_mode": {
    "name": "ipython",
    "version": 3
   },
   "file_extension": ".py",
   "mimetype": "text/x-python",
   "name": "python",
   "nbconvert_exporter": "python",
   "pygments_lexer": "ipython3",
   "version": "3.8.5"
  }
 },
 "nbformat": 4,
 "nbformat_minor": 4
}
