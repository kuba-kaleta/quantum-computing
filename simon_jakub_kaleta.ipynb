{
 "cells": [
  {
   "cell_type": "code",
   "execution_count": 5,
   "metadata": {},
   "outputs": [
    {
     "data": {
      "text/html": [
       "<pre style=\"word-wrap: normal;white-space: pre;background: #fff0;line-height: 1.1;font-family: &quot;Courier New&quot;,Courier,monospace\">     ┌───┐ ░                           ░ ┌───┐┌─┐      \n",
       "q_0: ┤ H ├─░───■───────────────────────░─┤ H ├┤M├──────\n",
       "     ├───┤ ░   │                       ░ ├───┤└╥┘┌─┐   \n",
       "q_1: ┤ H ├─░───┼────■─────────■────■───░─┤ H ├─╫─┤M├───\n",
       "     ├───┤ ░   │    │         │    │   ░ ├───┤ ║ └╥┘┌─┐\n",
       "q_2: ┤ H ├─░───┼────┼────■────┼────┼───░─┤ H ├─╫──╫─┤M├\n",
       "     └───┘ ░ ┌─┴─┐  │    │    │    │   ░ └───┘ ║  ║ └╥┘\n",
       "q_3: ──────░─┤ X ├──┼────┼────┼────┼───░───────╫──╫──╫─\n",
       "           ░ └───┘┌─┴─┐  │  ┌─┴─┐  │   ░       ║  ║  ║ \n",
       "q_4: ──────░──────┤ X ├──┼──┤ X ├──┼───░───────╫──╫──╫─\n",
       "           ░      └───┘┌─┴─┐└───┘┌─┴─┐ ░       ║  ║  ║ \n",
       "q_5: ──────░───────────┤ X ├─────┤ X ├─░───────╫──╫──╫─\n",
       "           ░           └───┘     └───┘ ░       ║  ║  ║ \n",
       "c: 3/══════════════════════════════════════════╩══╩══╩═\n",
       "                                               0  1  2 </pre>"
      ],
      "text/plain": [
       "     ┌───┐ ░                           ░ ┌───┐┌─┐      \n",
       "q_0: ┤ H ├─░───■───────────────────────░─┤ H ├┤M├──────\n",
       "     ├───┤ ░   │                       ░ ├───┤└╥┘┌─┐   \n",
       "q_1: ┤ H ├─░───┼────■─────────■────■───░─┤ H ├─╫─┤M├───\n",
       "     ├───┤ ░   │    │         │    │   ░ ├───┤ ║ └╥┘┌─┐\n",
       "q_2: ┤ H ├─░───┼────┼────■────┼────┼───░─┤ H ├─╫──╫─┤M├\n",
       "     └───┘ ░ ┌─┴─┐  │    │    │    │   ░ └───┘ ║  ║ └╥┘\n",
       "q_3: ──────░─┤ X ├──┼────┼────┼────┼───░───────╫──╫──╫─\n",
       "           ░ └───┘┌─┴─┐  │  ┌─┴─┐  │   ░       ║  ║  ║ \n",
       "q_4: ──────░──────┤ X ├──┼──┤ X ├──┼───░───────╫──╫──╫─\n",
       "           ░      └───┘┌─┴─┐└───┘┌─┴─┐ ░       ║  ║  ║ \n",
       "q_5: ──────░───────────┤ X ├─────┤ X ├─░───────╫──╫──╫─\n",
       "           ░           └───┘     └───┘ ░       ║  ║  ║ \n",
       "c: 3/══════════════════════════════════════════╩══╩══╩═\n",
       "                                               0  1  2 "
      ]
     },
     "execution_count": 5,
     "metadata": {},
     "output_type": "execute_result"
    }
   ],
   "source": [
    "# Zaimplementuj funkcję do problemu Simona i algorytm Simona\n",
    "from qiskit import Aer\n",
    "from qiskit.providers.ibmq import least_busy\n",
    "from qiskit import QuantumCircuit, transpile, assemble\n",
    "from qiskit.visualization import plot_histogram\n",
    "\n",
    "q = QuantumCircuit(3*2, 3)\n",
    "q.h(0) \n",
    "q.h(1) \n",
    "q.h(2) \n",
    "q.barrier()\n",
    "q.cx(0,3) #'110'\n",
    "q.cx(1,4)\n",
    "q.cx(2,5)\n",
    "q.cx(1,4)\n",
    "q.cx(1,5)\n",
    "q.barrier()\n",
    "q.h(0)\n",
    "q.h(1)\n",
    "q.h(2)\n",
    "q.measure(0, 0)\n",
    "q.measure(1, 1)\n",
    "q.measure(2, 2)\n",
    "q.draw()"
   ]
  },
  {
   "cell_type": "code",
   "execution_count": 6,
   "metadata": {},
   "outputs": [
    {
     "data": {
      "image/png": "[encoded data removed]",
      "text/plain": [
       "<Figure size 504x360 with 1 Axes>"
      ]
     },
     "execution_count": 6,
     "metadata": {},
     "output_type": "execute_result"
    }
   ],
   "source": [
    "# use local simulator\n",
    "qasm_sim = Aer.get_backend('qasm_simulator')\n",
    "shots = 1024\n",
    "qobj = assemble(q, shots=shots)\n",
    "results = qasm_sim.run(qobj).result()\n",
    "counts = results.get_counts()\n",
    "plot_histogram(counts)"
   ]
  },
  {
   "cell_type": "code",
   "execution_count": null,
   "metadata": {},
   "outputs": [],
   "source": []
  }
 ],
 "metadata": {
  "kernelspec": {
   "display_name": "Python 3",
   "language": "python",
   "name": "python3"
  },
  "language_info": {
   "codemirror_mode": {
    "name": "ipython",
    "version": 3
   },
   "file_extension": ".py",
   "mimetype": "text/x-python",
   "name": "python",
   "nbconvert_exporter": "python",
   "pygments_lexer": "ipython3",
   "version": "3.8.5"
  }
 },
 "nbformat": 4,
 "nbformat_minor": 4
}
