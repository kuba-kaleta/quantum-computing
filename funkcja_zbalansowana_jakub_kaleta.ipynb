{
 "cells": [
  {
   "cell_type": "code",
   "execution_count": 3,
   "metadata": {},
   "outputs": [
    {
     "data": {
      "text/html": [
       "<pre style=\"word-wrap: normal;white-space: pre;background: #fff0;line-height: 1.1;font-family: &quot;Courier New&quot;,Courier,monospace\">     ┌─────────────────┐ ░ ┌───┐ ░                 ░ ┌───┐ ░ ┌─┐         \n",
       "q_0: ┤ initialize(0,1) ├─░─┤ X ├─░───■────■────■───░─┤ X ├─░─┤M├─────────\n",
       "     ├─────────────────┤ ░ └───┘ ░ ┌─┴─┐  │    │   ░ └───┘ ░ └╥┘┌─┐      \n",
       "q_1: ┤ initialize(1,0) ├─░───────░─┤ X ├──┼────┼───░───────░──╫─┤M├──────\n",
       "     ├─────────────────┤ ░ ┌───┐ ░ └───┘┌─┴─┐  │   ░ ┌───┐ ░  ║ └╥┘┌─┐   \n",
       "q_2: ┤ initialize(0,1) ├─░─┤ X ├─░──────┤ X ├──┼───░─┤ X ├─░──╫──╫─┤M├───\n",
       "     └─────────────────┘ ░ └───┘ ░      └───┘┌─┴─┐ ░ └───┘ ░  ║  ║ └╥┘┌─┐\n",
       "q_3: ────────────────────░───────░───────────┤ X ├─░───────░──╫──╫──╫─┤M├\n",
       "                         ░       ░           └───┘ ░       ░  ║  ║  ║ └╥┘\n",
       "c: 4/═════════════════════════════════════════════════════════╩══╩══╩══╩═\n",
       "                                                              0  1  2  3 </pre>"
      ],
      "text/plain": [
       "     ┌─────────────────┐ ░ ┌───┐ ░                 ░ ┌───┐ ░ ┌─┐         \n",
       "q_0: ┤ initialize(0,1) ├─░─┤ X ├─░───■────■────■───░─┤ X ├─░─┤M├─────────\n",
       "     ├─────────────────┤ ░ └───┘ ░ ┌─┴─┐  │    │   ░ └───┘ ░ └╥┘┌─┐      \n",
       "q_1: ┤ initialize(1,0) ├─░───────░─┤ X ├──┼────┼───░───────░──╫─┤M├──────\n",
       "     ├─────────────────┤ ░ ┌───┐ ░ └───┘┌─┴─┐  │   ░ ┌───┐ ░  ║ └╥┘┌─┐   \n",
       "q_2: ┤ initialize(0,1) ├─░─┤ X ├─░──────┤ X ├──┼───░─┤ X ├─░──╫──╫─┤M├───\n",
       "     └─────────────────┘ ░ └───┘ ░      └───┘┌─┴─┐ ░ └───┘ ░  ║  ║ └╥┘┌─┐\n",
       "q_3: ────────────────────░───────░───────────┤ X ├─░───────░──╫──╫──╫─┤M├\n",
       "                         ░       ░           └───┘ ░       ░  ║  ║  ║ └╥┘\n",
       "c: 4/═════════════════════════════════════════════════════════╩══╩══╩══╩═\n",
       "                                                              0  1  2  3 "
      ]
     },
     "execution_count": 3,
     "metadata": {},
     "output_type": "execute_result"
    }
   ],
   "source": [
    "from qiskit import QuantumCircuit\n",
    "from qiskit import QuantumRegister\n",
    "from qiskit import ClassicalRegister\n",
    "\n",
    "q = QuantumCircuit(4, 4)\n",
    "i = [0,1] #1\n",
    "o = [1,0] #0\n",
    "q.initialize(i, 0)\n",
    "q.initialize(o, 1)\n",
    "q.initialize(i, 2)\n",
    "q.barrier()\n",
    "q.x(0)\n",
    "q.x(2)\n",
    "q.barrier()\n",
    "q.cx(0,1)\n",
    "q.cx(0,2)\n",
    "q.cx(0,3)\n",
    "q.barrier()\n",
    "q.x(0)\n",
    "q.x(2)\n",
    "q.barrier()\n",
    "q.measure(0,0)\n",
    "q.measure(1,1)\n",
    "q.measure(2,2)\n",
    "q.measure(3,3)\n",
    "q.draw()"
   ]
  },
  {
   "cell_type": "code",
   "execution_count": 4,
   "metadata": {},
   "outputs": [
    {
     "data": {
      "image/png": "[encoded data removed]",
      "text/plain": [
       "<Figure size 504x360 with 1 Axes>"
      ]
     },
     "execution_count": 4,
     "metadata": {},
     "output_type": "execute_result"
    }
   ],
   "source": [
    "from qiskit.visualization import plot_histogram\n",
    "from qiskit import Aer\n",
    "from qiskit import assemble\n",
    "\n",
    "ass = assemble(q, shots=1)\n",
    "sim = Aer.get_backend('qasm_simulator')\n",
    "res = sim.run(ass)\n",
    "cnt = res.result().get_counts()\n",
    "plot_histogram(cnt)"
   ]
  },
  {
   "cell_type": "code",
   "execution_count": null,
   "metadata": {},
   "outputs": [],
   "source": []
  }
 ],
 "metadata": {
  "kernelspec": {
   "display_name": "Python 3",
   "language": "python",
   "name": "python3"
  },
  "language_info": {
   "codemirror_mode": {
    "name": "ipython",
    "version": 3
   },
   "file_extension": ".py",
   "mimetype": "text/x-python",
   "name": "python",
   "nbconvert_exporter": "python",
   "pygments_lexer": "ipython3",
   "version": "3.8.5"
  }
 },
 "nbformat": 4,
 "nbformat_minor": 4
}
